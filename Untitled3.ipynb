{
  "nbformat": 4,
  "nbformat_minor": 0,
  "metadata": {
    "colab": {
      "provenance": [],
      "authorship_tag": "ABX9TyOzj3RPQhz5wPDwoAENJCAk",
      "include_colab_link": true
    },
    "kernelspec": {
      "name": "python3",
      "display_name": "Python 3"
    },
    "language_info": {
      "name": "python"
    }
  },
  "cells": [
    {
      "cell_type": "markdown",
      "metadata": {
        "id": "view-in-github",
        "colab_type": "text"
      },
      "source": [
        "<a href=\"https://colab.research.google.com/github/Atharv26j13/2/blob/main/Untitled3.ipynb\" target=\"_parent\"><img src=\"https://colab.research.google.com/assets/colab-badge.svg\" alt=\"Open In Colab\"/></a>"
      ]
    },
    {
      "cell_type": "code",
      "execution_count": 3,
      "metadata": {
        "colab": {
          "base_uri": "https://localhost:8080/"
        },
        "id": "9NI_a17n5QzV",
        "outputId": "4aadf021-f74f-4c58-f55e-8bae7429724e"
      },
      "outputs": [
        {
          "output_type": "stream",
          "name": "stdout",
          "text": [
            "Enter a number: 371\n",
            "27\n",
            "344\n",
            "343\n",
            "1\n",
            "1\n",
            "0\n",
            "A\n"
          ]
        }
      ],
      "source": [
        "a = int(input(\"Enter a number: \"))\n",
        "l = []\n",
        "for i in str(a):\n",
        "    l.append(i)\n",
        "for i in range(len(l)):\n",
        "    print((int(l[i])**len(l)))\n",
        "    a = a-(int(l[i])**len(l))\n",
        "    print(a)\n",
        "if a == 0:\n",
        "    print(\"A\")\n",
        "else:\n",
        "    print(\"B\")"
      ]
    },
    {
      "cell_type": "code",
      "source": [
        "a = int(input(\"Enter a number: \"))\n",
        "l = []\n",
        "for i in range(1, int(a / 2) + 1):\n",
        "    if a % i == 0:\n",
        "        l.append(i)\n",
        "l.append(a)\n",
        "print(\"Factors:\", l)"
      ],
      "metadata": {
        "colab": {
          "base_uri": "https://localhost:8080/"
        },
        "id": "cDnZthsJ5ZTk",
        "outputId": "2aa46281-0f9a-40cd-9647-d7ab13356a2a"
      },
      "execution_count": 8,
      "outputs": [
        {
          "output_type": "stream",
          "name": "stdout",
          "text": [
            "Enter a number: 45\n",
            "Factors: [1, 3, 5, 9, 15, 45]\n"
          ]
        }
      ]
    },
    {
      "cell_type": "code",
      "source": [
        "a = int(input(\"Enter a number: \"))\n",
        "for i in range(int(a/1000)):\n",
        "    print(\"M\",end=\"\")\n",
        "a = a%1000\n",
        "for i in range(int(a/900)):\n",
        "    print(\"CM\",end=\"\")\n",
        "a = a%900\n",
        "for i in range(int(a/500)):\n",
        "    print(\"D\",end=\"\")\n",
        "a = a%500\n",
        "for i in range(int(a/400)):\n",
        "    print(\"CD\",end=\"\")\n",
        "a = a%400\n",
        "for i in range(int(a/100)):\n",
        "    print(\"C\",end=\"\")\n",
        "a = a%100\n",
        "for i in range(int(a/90)):\n",
        "    print(\"XC\",end=\"\")\n",
        "a = a%90\n",
        "for i in range(int(a/50)):\n",
        "    print(\"L\",end=\"\")\n",
        "a = a%50\n",
        "for i in range(int(a/40)):\n",
        "    print(\"XL\",end=\"\")\n",
        "a = a%40\n",
        "for i in range(int(a/10)):\n",
        "    print(\"X\",end=\"\")\n",
        "a = a%10\n",
        "for i in range(int(a/9)):\n",
        "    print(\"IX\",end=\"\")\n",
        "a = a%9\n",
        "for i in range(int(a/5)):\n",
        "    print(\"V\",end=\"\")\n",
        "a = a%5\n",
        "for i in range(int(a/4)):\n",
        "    print(\"IV\",end=\"\")\n",
        "a = a%4\n",
        "for i in range(int(a)):\n",
        "    print(\"I\",end=\"\")\n",
        "print(\"\")"
      ],
      "metadata": {
        "colab": {
          "base_uri": "https://localhost:8080/"
        },
        "id": "jvk-uhtS7Lt-",
        "outputId": "be12d1e2-3036-401f-b887-2c2b73b4a092"
      },
      "execution_count": 10,
      "outputs": [
        {
          "output_type": "stream",
          "name": "stdout",
          "text": [
            "Enter a number: 3995\n",
            "MMMCMXCV\n"
          ]
        }
      ]
    }
  ]
}