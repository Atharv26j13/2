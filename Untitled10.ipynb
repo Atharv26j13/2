{
  "nbformat": 4,
  "nbformat_minor": 0,
  "metadata": {
    "colab": {
      "provenance": [],
      "authorship_tag": "ABX9TyMrYlI7URRfWAgAU0JBcdxl",
      "include_colab_link": true
    },
    "kernelspec": {
      "name": "python3",
      "display_name": "Python 3"
    },
    "language_info": {
      "name": "python"
    }
  },
  "cells": [
    {
      "cell_type": "markdown",
      "metadata": {
        "id": "view-in-github",
        "colab_type": "text"
      },
      "source": [
        "<a href=\"https://colab.research.google.com/github/Atharv26j13/2/blob/main/Untitled10.ipynb\" target=\"_parent\"><img src=\"https://colab.research.google.com/assets/colab-badge.svg\" alt=\"Open In Colab\"/></a>"
      ]
    },
    {
      "cell_type": "code",
      "execution_count": 3,
      "metadata": {
        "colab": {
          "base_uri": "https://localhost:8080/"
        },
        "id": "RWvIPVIiukO9",
        "outputId": "3f2bf40a-c326-4372-ed92-276ff76601e0"
      },
      "outputs": [
        {
          "output_type": "stream",
          "name": "stdout",
          "text": [
            "<class 'pandas.core.frame.DataFrame'>\n",
            "Index: 5 entries, a to e\n",
            "Data columns (total 4 columns):\n",
            " #   Column    Non-Null Count  Dtype  \n",
            "---  ------    --------------  -----  \n",
            " 0   name      5 non-null      object \n",
            " 1   score     3 non-null      float64\n",
            " 2   attempts  5 non-null      int64  \n",
            " 3   qualify   5 non-null      object \n",
            "dtypes: float64(1), int64(1), object(2)\n",
            "memory usage: 200.0+ bytes\n",
            "None\n",
            "        name   score  attempts qualify\n",
            "a  Anastesia   20.00         1     yes\n",
            "b    Glucose     NaN         9      no\n",
            "c     Maxtra  101.99         2    yes!\n",
            "d        Eno   15.50         1     yes\n",
            "e  Pudinhara     NaN        23    no!!\n"
          ]
        }
      ],
      "source": [
        "import pandas as pd\n",
        "import numpy as np\n",
        "\n",
        "medicine_data = {'name': ['Anastesia', 'Glucose', 'Maxtra', 'Eno', 'Pudinhara'],\n",
        "             'score': [20.0,np.nan,101.99,15.5,np.nan],\n",
        "             'attempts': [1,9,2,1,23],\n",
        "             'qualify': ['yes','no','yes!','yes','no!!']}\n",
        "labels = ['a','b','c','d','e']\n",
        "\n",
        "df = pd.DataFrame(medicine_data, index=labels)\n",
        "print(df.info())\n",
        "print(df)"
      ]
    }
  ]
}