{
  "nbformat": 4,
  "nbformat_minor": 0,
  "metadata": {
    "colab": {
      "provenance": [],
      "authorship_tag": "ABX9TyPaIsR4ePTO7rJG62U4WeqG",
      "include_colab_link": true
    },
    "kernelspec": {
      "name": "python3",
      "display_name": "Python 3"
    },
    "language_info": {
      "name": "python"
    }
  },
  "cells": [
    {
      "cell_type": "markdown",
      "metadata": {
        "id": "view-in-github",
        "colab_type": "text"
      },
      "source": [
        "<a href=\"https://colab.research.google.com/github/Atharv26j13/2/blob/main/data_science.ipynb\" target=\"_parent\"><img src=\"https://colab.research.google.com/assets/colab-badge.svg\" alt=\"Open In Colab\"/></a>"
      ]
    },
    {
      "cell_type": "code",
      "execution_count": 3,
      "metadata": {
        "colab": {
          "base_uri": "https://localhost:8080/"
        },
        "id": "bKUqy7gf1TjS",
        "outputId": "458d15c7-66a6-4e2d-d0f9-cbbc25bb1205"
      },
      "outputs": [
        {
          "output_type": "stream",
          "name": "stdout",
          "text": [
            "Original array:\n",
            "[(b'Hammer',  5,  100. ) (b'Nail',  6,   52.5) (b'Screw',  1,    4.6)\n",
            " (b'Military Grade Titanium Chainsaw', 99, 1562.8)]\n",
            "Sort by height\n",
            "[(b'Screw',  1,    4.6) (b'Nail',  6,   52.5) (b'Hammer',  5,  100. )\n",
            " (b'Military Grade Titanium Chainsaw', 99, 1562.8)]\n"
          ]
        }
      ],
      "source": [
        "import numpy as np\n",
        "data_type = [('name','S90'),('class',int),('height',float)]\n",
        "students_details = [('Hammer',5,100.0),('Nail',6,52.5 ),('Screw',1,4.6),('Military Grade Titanium Chainsaw',99,1562.8)]\n",
        "\n",
        "students = np.array(students_details,dtype=data_type)\n",
        "print('Original array:')\n",
        "print(students)\n",
        "print('Sort by height')\n",
        "print(np.sort(students,order='height'))"
      ]
    },
    {
      "cell_type": "code",
      "source": [
        "import numpy as np\n",
        "\n",
        "# Create a 3x3 array of floats from 0 to 8\n",
        "a = np.arange(9, dtype=np.float64).reshape(3, 3)\n",
        "print(\"First Array:\")\n",
        "print(a)\n",
        "print(\"\\n\")\n",
        "\n",
        "# Create a column vector (3x1) so operations happen column-wise\n",
        "b = np.array([[10], [10], [10]])\n",
        "print(\"Second Array (Column Vector):\")\n",
        "print(b)\n",
        "print(\"\\n\")\n",
        "\n",
        "# Perform element-wise operations\n",
        "print(\"Add the two arrays:\")\n",
        "print(np.add(a, b))\n",
        "print(\"\\n\")\n",
        "\n",
        "print(\"Subtract the two arrays:\")\n",
        "print(np.subtract(a, b))\n",
        "print(\"\\n\")\n",
        "\n",
        "print(\"Multiply the two arrays:\")\n",
        "print(np.multiply(a, b))\n",
        "print(\"\\n\")\n",
        "\n",
        "print(\"Divide the two arrays:\")\n",
        "print(np.divide(a, b))\n",
        "print(\"\\n\")\n",
        "\n"
      ],
      "metadata": {
        "colab": {
          "base_uri": "https://localhost:8080/"
        },
        "id": "M4fS-Gz_4gsO",
        "outputId": "c2aa0da1-b3c4-4b11-f655-c63bf5fce783"
      },
      "execution_count": 10,
      "outputs": [
        {
          "output_type": "stream",
          "name": "stdout",
          "text": [
            "First Array:\n",
            "[[0. 1. 2.]\n",
            " [3. 4. 5.]\n",
            " [6. 7. 8.]]\n",
            "\n",
            "\n",
            "Second Array (Column Vector):\n",
            "[[10]\n",
            " [10]\n",
            " [10]]\n",
            "\n",
            "\n",
            "Add the two arrays:\n",
            "[[10. 11. 12.]\n",
            " [13. 14. 15.]\n",
            " [16. 17. 18.]]\n",
            "\n",
            "\n",
            "Subtract the two arrays:\n",
            "[[-10.  -9.  -8.]\n",
            " [ -7.  -6.  -5.]\n",
            " [ -4.  -3.  -2.]]\n",
            "\n",
            "\n",
            "Multiply the two arrays:\n",
            "[[ 0. 10. 20.]\n",
            " [30. 40. 50.]\n",
            " [60. 70. 80.]]\n",
            "\n",
            "\n",
            "Divide the two arrays:\n",
            "[[0.  0.1 0.2]\n",
            " [0.3 0.4 0.5]\n",
            " [0.6 0.7 0.8]]\n",
            "\n",
            "\n"
          ]
        }
      ]
    }
  ]
}