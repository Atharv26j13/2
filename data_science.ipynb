{
  "nbformat": 4,
  "nbformat_minor": 0,
  "metadata": {
    "colab": {
      "provenance": [],
      "authorship_tag": "ABX9TyO2DB4j9FwPO/duz1UUCu3f",
      "include_colab_link": true
    },
    "kernelspec": {
      "name": "python3",
      "display_name": "Python 3"
    },
    "language_info": {
      "name": "python"
    }
  },
  "cells": [
    {
      "cell_type": "markdown",
      "metadata": {
        "id": "view-in-github",
        "colab_type": "text"
      },
      "source": [
        "<a href=\"https://colab.research.google.com/github/Atharv26j13/2/blob/main/data_science.ipynb\" target=\"_parent\"><img src=\"https://colab.research.google.com/assets/colab-badge.svg\" alt=\"Open In Colab\"/></a>"
      ]
    },
    {
      "cell_type": "code",
      "execution_count": 3,
      "metadata": {
        "colab": {
          "base_uri": "https://localhost:8080/"
        },
        "id": "bKUqy7gf1TjS",
        "outputId": "458d15c7-66a6-4e2d-d0f9-cbbc25bb1205"
      },
      "outputs": [
        {
          "output_type": "stream",
          "name": "stdout",
          "text": [
            "Original array:\n",
            "[(b'Hammer',  5,  100. ) (b'Nail',  6,   52.5) (b'Screw',  1,    4.6)\n",
            " (b'Military Grade Titanium Chainsaw', 99, 1562.8)]\n",
            "Sort by height\n",
            "[(b'Screw',  1,    4.6) (b'Nail',  6,   52.5) (b'Hammer',  5,  100. )\n",
            " (b'Military Grade Titanium Chainsaw', 99, 1562.8)]\n"
          ]
        }
      ],
      "source": [
        "import numpy as np\n",
        "data_type = [('name','S90'),('class',int),('height',float)]\n",
        "students_details = [('Hammer',5,100.0),('Nail',6,52.5 ),('Screw',1,4.6),('Military Grade Titanium Chainsaw',99,1562.8)]\n",
        "\n",
        "students = np.array(students_details,dtype=data_type)\n",
        "print('Original array:')\n",
        "print(students)\n",
        "print('Sort by height')\n",
        "print(np.sort(students,order='height'))"
      ]
    }
  ]
}